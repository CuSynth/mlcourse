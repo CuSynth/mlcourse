{
 "cells": [
  {
   "cell_type": "code",
   "execution_count": 9,
   "metadata": {},
   "outputs": [],
   "source": [
    "import pandas as pd\n",
    "import numpy as np\n",
    "\n",
    "from scipy.stats import uniform, randint, loguniform\n",
    "from sklearn.metrics import mean_squared_error\n",
    "from sklearn.model_selection import train_test_split, RandomizedSearchCV\n",
    "from lightgbm import LGBMRegressor\n",
    "\n",
    "from fit_util import *"
   ]
  },
  {
   "cell_type": "code",
   "execution_count": 10,
   "metadata": {},
   "outputs": [],
   "source": [
    "train_df = load_data()\n",
    "transformer = DataTransformer()\n",
    "train_df = transformer.fit_transform(train_df)\n",
    "\n",
    "y = train_df['SalePrice']\n",
    "X = train_df.drop(columns='SalePrice', axis=1)\n",
    "\n",
    "X_train, X_test, y_train, y_test = train_test_split(X, y, test_size=0.2, random_state=98987)"
   ]
  },
  {
   "cell_type": "code",
   "execution_count": 11,
   "metadata": {},
   "outputs": [],
   "source": [
    "parameters = {\n",
    "    \"learning_rate\": loguniform(5e-3,  1e-1),\n",
    "    \"max_depth\": [10, 100, 200, 500, 1000, 3000, 4000, 5000],\n",
    "    \"n_estimators\": [1, 10, 20, 100, 1000, 5000, 7000, 9000, 10000],\n",
    "    \"min_child_samples\": [1, 2, 5, 10, 15, 20],\n",
    "    \"subsample_freq\": [3, 5, 7, 10, 12, 15],\n",
    "    \"reg_lambda\" : loguniform(1e-4, 10)\n",
    "    }\n",
    "\n",
    "grid_model = RandomizedSearchCV(LGBMRegressor(seed=0), parameters, cv=3, n_jobs=-1)\n",
    "grid_model.fit(X_train, y_train);"
   ]
  },
  {
   "cell_type": "code",
   "execution_count": 12,
   "metadata": {},
   "outputs": [
    {
     "name": "stdout",
     "output_type": "stream",
     "text": [
      "{'learning_rate': 0.09859074954616912, 'max_depth': 100, 'min_child_samples': 2, 'n_estimators': 10000, 'reg_lambda': 0.2698962582576065, 'subsample_freq': 15}\n"
     ]
    }
   ],
   "source": [
    "print(grid_model.best_params_)"
   ]
  },
  {
   "cell_type": "markdown",
   "metadata": {},
   "source": [
    "Evaluating on train set"
   ]
  },
  {
   "cell_type": "code",
   "execution_count": 13,
   "metadata": {},
   "outputs": [],
   "source": [
    "gs_model = LGBMRegressor(**grid_model.best_params_, seed=0)\n",
    "gs_model.fit(X_train, y_train);"
   ]
  },
  {
   "cell_type": "code",
   "execution_count": 14,
   "metadata": {},
   "outputs": [
    {
     "name": "stdout",
     "output_type": "stream",
     "text": [
      "train RMSE: 0.0011844375790452304\n",
      "test RMSE: 0.13309106169047022\n"
     ]
    }
   ],
   "source": [
    "evaluate(gs_model, X_train, y_train, \"train \")\n",
    "evaluate(gs_model, X_test, y_test, \"test \")"
   ]
  },
  {
   "cell_type": "code",
   "execution_count": 15,
   "metadata": {},
   "outputs": [
    {
     "name": "stdout",
     "output_type": "stream",
     "text": [
      "RMSLE submission: 0.3837947671336009\n"
     ]
    }
   ],
   "source": [
    "submission(transformer=transformer, gs_model=gs_model, obj_to_num=True)"
   ]
  }
 ],
 "metadata": {
  "kernelspec": {
   "display_name": "Python 3.10.6 64-bit",
   "language": "python",
   "name": "python3"
  },
  "language_info": {
   "codemirror_mode": {
    "name": "ipython",
    "version": 3
   },
   "file_extension": ".py",
   "mimetype": "text/x-python",
   "name": "python",
   "nbconvert_exporter": "python",
   "pygments_lexer": "ipython3",
   "version": "3.10.6"
  },
  "orig_nbformat": 4,
  "vscode": {
   "interpreter": {
    "hash": "916dbcbb3f70747c44a77c7bcd40155683ae19c65e1c03b4aa3499c5328201f1"
   }
  }
 },
 "nbformat": 4,
 "nbformat_minor": 2
}
