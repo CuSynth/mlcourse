{
 "cells": [
  {
   "cell_type": "code",
   "execution_count": 9,
   "metadata": {},
   "outputs": [],
   "source": [
    "import numpy as np\n",
    "\n",
    "from scipy.stats import uniform, randint, loguniform\n",
    "from sklearn.metrics import mean_squared_error\n",
    "from sklearn.model_selection import train_test_split, RandomizedSearchCV\n",
    "from xgboost import XGBRegressor\n",
    "\n",
    "from fit_util import *"
   ]
  },
  {
   "cell_type": "code",
   "execution_count": 12,
   "metadata": {},
   "outputs": [],
   "source": [
    "train_df = load_data()\n",
    "transformer = DataTransformer()\n",
    "train_df = transformer.fit_transform(train_df)\n",
    "\n",
    "y = train_df['SalePrice']\n",
    "X = train_df.drop(columns='SalePrice', axis=1)\n",
    "\n",
    "X_train = X.iloc[np.random.choice(np.arange(len(X)), 300, False)]\n",
    "y_train = y[X_train.index]"
   ]
  },
  {
   "cell_type": "code",
   "execution_count": 13,
   "metadata": {},
   "outputs": [],
   "source": [
    "parameters = {\n",
    "    \"learning_rate\": loguniform(5e-3,  1e-1),\n",
    "    \"max_depth\": [10, 100, 200, 500, 1000, 3000, 4000, 5000],\n",
    "    \"n_estimators\": [1, 10, 20, 100, 1000, 5000, 7000, 9000, 10000],\n",
    "    \"max_depth\": [185],\n",
    "    \"n_estimators\": [7374],\n",
    "    \"lambda\" : loguniform(1e-4, 10),\n",
    "    \"min_child_weight\" : loguniform(0.1, 55),\n",
    "    \"gamma\" : loguniform(1e-4, 10)\n",
    "    }\n",
    "\n",
    "grid_model = RandomizedSearchCV(XGBRegressor(seed=0), parameters, cv=3, n_jobs=-1)\n",
    "grid_model.fit(X_train, y_train);"
   ]
  },
  {
   "cell_type": "code",
   "execution_count": 14,
   "metadata": {},
   "outputs": [
    {
     "name": "stdout",
     "output_type": "stream",
     "text": [
      "{'gamma': 0.0005233793595180316, 'lambda': 5.6085074951963945, 'learning_rate': 0.021792504938199782, 'max_depth': 185, 'min_child_weight': 9.653704437705056, 'n_estimators': 7374}\n"
     ]
    }
   ],
   "source": [
    "print(grid_model.best_params_)"
   ]
  },
  {
   "cell_type": "code",
   "execution_count": 15,
   "metadata": {},
   "outputs": [],
   "source": [
    "gs_model = XGBRegressor(**grid_model.best_params_, seed=0)\n",
    "\n",
    "train_df = load_data()\n",
    "transformer = DataTransformer()\n",
    "train_df = transformer.fit_transform(train_df)\n",
    "\n",
    "y = train_df['SalePrice']\n",
    "X = train_df.drop(columns='SalePrice', axis=1)\n",
    "\n",
    "X_train, X_test, y_train, y_test = train_test_split(X, y, test_size=0.2, random_state=98987)\n",
    "\n",
    "gs_model.fit(X_train, y_train);"
   ]
  },
  {
   "cell_type": "code",
   "execution_count": 16,
   "metadata": {},
   "outputs": [
    {
     "name": "stdout",
     "output_type": "stream",
     "text": [
      "train RMSE: 0.010515217474039724\n",
      "test RMSE: 0.12974631238370893\n"
     ]
    }
   ],
   "source": [
    "evaluate(gs_model, X_train, y_train, \"train \")\n",
    "evaluate(gs_model, X_test, y_test, \"test \")"
   ]
  },
  {
   "cell_type": "code",
   "execution_count": 17,
   "metadata": {},
   "outputs": [
    {
     "name": "stdout",
     "output_type": "stream",
     "text": [
      "RMSLE submission: 0.38565207831952475\n"
     ]
    }
   ],
   "source": [
    "submission(transformer=transformer, gs_model=gs_model, obj_to_num=True)"
   ]
  },
  {
   "cell_type": "code",
   "execution_count": null,
   "metadata": {},
   "outputs": [],
   "source": []
  }
 ],
 "metadata": {
  "kernelspec": {
   "display_name": "Python 3.10.6 64-bit",
   "language": "python",
   "name": "python3"
  },
  "language_info": {
   "codemirror_mode": {
    "name": "ipython",
    "version": 3
   },
   "file_extension": ".py",
   "mimetype": "text/x-python",
   "name": "python",
   "nbconvert_exporter": "python",
   "pygments_lexer": "ipython3",
   "version": "3.10.6"
  },
  "orig_nbformat": 4,
  "vscode": {
   "interpreter": {
    "hash": "916dbcbb3f70747c44a77c7bcd40155683ae19c65e1c03b4aa3499c5328201f1"
   }
  }
 },
 "nbformat": 4,
 "nbformat_minor": 2
}
