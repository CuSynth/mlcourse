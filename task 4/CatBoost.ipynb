{
 "cells": [
  {
   "cell_type": "code",
   "execution_count": 8,
   "metadata": {},
   "outputs": [],
   "source": [
    "import pandas as pd\n",
    "import numpy as np\n",
    "import seaborn as sns\n",
    "import os\n",
    "\n",
    "from scipy.stats import uniform, randint, loguniform\n",
    "from sklearn.metrics import mean_squared_error\n",
    "from sklearn.model_selection import train_test_split, RandomizedSearchCV\n",
    "from catboost import CatBoostRegressor\n",
    "\n",
    "from fit_util import *"
   ]
  },
  {
   "cell_type": "code",
   "execution_count": 9,
   "metadata": {},
   "outputs": [],
   "source": [
    "# X, y = load_data()\n",
    "# X_train, X_test, y_train, y_test = train_test_split(X, y, test_size=0.2, random_state=98987)\n",
    "\n",
    "train_df, target = load_data()\n",
    "X_train = train_df.iloc[np.random.choice(np.arange(len(train_df)), 300, False)]\n",
    "y_train = target[X_train.index]\n",
    "\n",
    "cat_features = np.where(X_train.loc[:, X_train.columns.values].dtypes == \"object\")[0]\n",
    "to_categorical(X_train)"
   ]
  },
  {
   "cell_type": "code",
   "execution_count": 10,
   "metadata": {},
   "outputs": [],
   "source": [
    "parameters = {\n",
    "    \"n_estimators\": [1, 10, 20, 100, 1000, 5000, 7000, 9000, 10000],\n",
    "    \"learning_rate\": uniform(1e-3,  1e-1),\n",
    "    \"depth\": [1, 2, 3, 4, 5],\n",
    "    \"l2_leaf_reg\": loguniform(10, 40)\n",
    "    }\n",
    "\n",
    "model = CatBoostRegressor( task_type=\"CPU\", \n",
    "                           logging_level='Silent', \n",
    "                           random_seed=0,\n",
    "                           cat_features=cat_features)\n",
    "\n",
    "grid_model = RandomizedSearchCV(model, parameters, cv=5, n_jobs=-1)\n",
    "grid_model.fit(X_train, y_train);"
   ]
  },
  {
   "cell_type": "code",
   "execution_count": 11,
   "metadata": {},
   "outputs": [
    {
     "name": "stdout",
     "output_type": "stream",
     "text": [
      "{'depth': 4, 'l2_leaf_reg': 12.04252104127671, 'learning_rate': 0.05412027556607346, 'n_estimators': 7000}\n"
     ]
    }
   ],
   "source": [
    "print(grid_model.best_params_)"
   ]
  },
  {
   "cell_type": "code",
   "execution_count": 12,
   "metadata": {},
   "outputs": [],
   "source": [
    "X, y = load_data()\n",
    "cat_features = np.where(X.loc[:, X.columns.values].dtypes == \"object\")[0]\n",
    "to_categorical(X)\n",
    "\n",
    "gs_model = CatBoostRegressor(**grid_model.best_params_,\n",
    "                               task_type=\"CPU\", \n",
    "                               logging_level='Silent', \n",
    "                               random_seed=0,\n",
    "                               cat_features=cat_features)\n",
    "\n",
    "X_train, X_test, y_train, y_test = train_test_split(X, y, test_size=0.2, random_state=98987)\n",
    "gs_model.fit(X_train, y_train);"
   ]
  },
  {
   "cell_type": "code",
   "execution_count": 13,
   "metadata": {},
   "outputs": [
    {
     "name": "stdout",
     "output_type": "stream",
     "text": [
      "RMSE: 0.001046892388252714\n",
      "RMSE: 0.008941165645505358\n"
     ]
    }
   ],
   "source": [
    "evaluate(gs_model, X_train, y_train)\n",
    "evaluate(gs_model, X_test, y_test)"
   ]
  }
 ],
 "metadata": {
  "kernelspec": {
   "display_name": "Python 3.10.6 64-bit",
   "language": "python",
   "name": "python3"
  },
  "language_info": {
   "codemirror_mode": {
    "name": "ipython",
    "version": 3
   },
   "file_extension": ".py",
   "mimetype": "text/x-python",
   "name": "python",
   "nbconvert_exporter": "python",
   "pygments_lexer": "ipython3",
   "version": "3.10.6"
  },
  "orig_nbformat": 4,
  "vscode": {
   "interpreter": {
    "hash": "916dbcbb3f70747c44a77c7bcd40155683ae19c65e1c03b4aa3499c5328201f1"
   }
  }
 },
 "nbformat": 4,
 "nbformat_minor": 2
}
